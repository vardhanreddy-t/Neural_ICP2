{
  "nbformat": 4,
  "nbformat_minor": 0,
  "metadata": {
    "colab": {
      "provenance": [],
      "authorship_tag": "ABX9TyMcVl/1rdPwuHFR4ETHUBW/",
      "include_colab_link": true
    },
    "kernelspec": {
      "name": "python3",
      "display_name": "Python 3"
    },
    "language_info": {
      "name": "python"
    }
  },
  "cells": [
    {
      "cell_type": "markdown",
      "metadata": {
        "id": "view-in-github",
        "colab_type": "text"
      },
      "source": [
        "<a href=\"https://colab.research.google.com/github/vardhanreddy-t/Neural_ICP2/blob/main/Untitled1.ipynb\" target=\"_parent\"><img src=\"https://colab.research.google.com/assets/colab-badge.svg\" alt=\"Open In Colab\"/></a>"
      ]
    },
    {
      "cell_type": "markdown",
      "source": [
        "`. Create a class Employee and then do the following `Inline code`\n",
        "\n",
        "• Create a data member to count the number of Employees\n",
        "• Create a constructor to initialize name, family, salary, department\n",
        "\n",
        "• Create a function to average salary\n",
        "\n",
        "• Create a Fulltime Employee class and it should inherit the properties of\n",
        "Employee class\n",
        "\n",
        "• Create the instances of Fulltime Employee class and Employee class and call their member functions."
      ],
      "metadata": {
        "id": "pI34QNsFpoi_"
      }
    },
    {
      "cell_type": "code",
      "execution_count": 4,
      "metadata": {
        "colab": {
          "base_uri": "https://localhost:8080/"
        },
        "id": "wU37yE4UjbXj",
        "outputId": "9ae80d92-485a-4d03-ed29-1b36fa2bdb92"
      },
      "outputs": [
        {
          "output_type": "stream",
          "name": "stdout",
          "text": [
            "The count of an employee is\t\t: 4\n",
            "Average salary of an employee is: 148750.0\n"
          ]
        }
      ],
      "source": [
        "# employee class code in Python\n",
        "# class definition\n",
        "\n",
        "class Employee:\n",
        "\n",
        "    # data member to count the number of Employees\n",
        "    count_of_employees = 0\n",
        "    __name=\"\"\n",
        "    __family=\"\"\n",
        "    __salary=0\n",
        "    __department=\"\"\n",
        "\n",
        "    # function to set data\n",
        "    # constructor to intiliaze the name, family, salary, department\n",
        "    def __init__(self, name, family, salary, department):\n",
        "        self.__name = name\n",
        "        self.__family = family\n",
        "        self.salary = salary\n",
        "        self.__department = department\n",
        "        Employee.count_of_employees += 1 #to count number of employees\n",
        "\n",
        "    #function to calculate the average salary of an employee\n",
        "    def average_salary(employees):\n",
        "        total = 0\n",
        "        for employee in employees:\n",
        "            total += employee.salary\n",
        "        return total / Employee.count_of_employees\n",
        "\n",
        "    #displaying the details of an employee\n",
        "    def showData(self):\n",
        "        print(\"The count of an employee is\\t\\t:\",Employee.count_of_employees)\n",
        "        #print(\"The Name of an employee is\\t:\", self.__name)\n",
        "        #print(\"The Family of an employee is\\t:\", self.__family)\n",
        "        #print(\"The Department of an employee is\\t:\", self.__department)\n",
        "        #print(\"The Salary of an employee is\\t:\", self.__salary)\n",
        "\n",
        "#A subclass which is inherited the properties of the class\n",
        "class FulltimeEmployee(Employee):\n",
        "   #intiliazation\n",
        "    def __init__(self, name, family, salary, department):\n",
        "        super().__init__(name, family, salary, department)\n",
        "\n",
        "\n",
        "#main class\n",
        "def main():\n",
        "    employees = []\n",
        "    one = FulltimeEmployee(\"vardhan\", \"fam-pothuru\", 120000, \"Enginner\")  #Declaration\n",
        "    employees.append(one)  #appending\n",
        "    two = FulltimeEmployee(\"akhi\", \"fam-kamtam\", 180000, \"Developer\")\n",
        "    employees.append(two)\n",
        "    three = Employee(\"deeshi\", \"fam-dhawswarala\", 160000, \"Manager\")\n",
        "    employees.append(three)\n",
        "    four = Employee(\"lasya\", \"Fam-siddavtam\", 135000, \"fashion\")\n",
        "    employees.append(four)\n",
        "    Employee.showData(employees)  #showing the data of an employee\n",
        "    print(\"Average salary of an employee is:\", FulltimeEmployee.average_salary(employees)) #Average salary of an employee\n",
        "\n",
        "\n",
        "if __name__ == \"__main__\":\n",
        "    main()"
      ]
    },
    {
      "cell_type": "markdown",
      "source": [
        "`Using NumPy create random vector of size 20 having only float in the range 1-20.`\n",
        "\n",
        "Then reshape the array to 4 by 5\n",
        "\n",
        "Then replace the max in each row by 0 (axis=1)\n",
        "\n",
        "(you can NOT implement it via for loop)\n"
      ],
      "metadata": {
        "id": "BWnzoUR3qB5i"
      }
    },
    {
      "cell_type": "code",
      "source": [
        "import numpy as np\n",
        "\n",
        "#function to replace the maximum value in an array of axis x and y based on the condition\n",
        "def replace_maxmium(array, replace_value, axis):\n",
        "    result = np.where(array == np.max(\n",
        "        array, axis=1).reshape(-1, 1), 0 * array, array)\n",
        "    print(result)\n",
        "\n",
        "\n",
        "def main():\n",
        "\n",
        " #creating a random vector of size 29 which is having in the range of 1-20\n",
        "    rand20 = np.random.random_sample(20) * 20 + 1\n",
        "    print(rand20)\n",
        "\n",
        "    #reshaping the array to 4 by 5 in random20\n",
        "    rand20_4by5 = rand20.reshape((4, 5))\n",
        "    print(rand20_4by5)\n",
        "\n",
        "    replace_maxmium(rand20_4by5, 0, 1)#replacing the max value in each row by zero\n",
        "\n",
        "\n",
        "if __name__ == \"__main__\":\n",
        "    main()"
      ],
      "metadata": {
        "colab": {
          "base_uri": "https://localhost:8080/"
        },
        "id": "gHPDd4r5jpKz",
        "outputId": "76896c50-f49e-4758-eec1-15544559910f"
      },
      "execution_count": 2,
      "outputs": [
        {
          "output_type": "stream",
          "name": "stdout",
          "text": [
            "[13.92339162  6.24761788  2.43439233 14.80089021  2.47882849  9.06572746\n",
            " 19.43896021 18.76742443  6.92981111  9.9536082  14.16013873 20.98343279\n",
            "  8.95771057 14.53613399  1.22533667 18.11953556  9.18484847 20.25100036\n",
            "  1.11991183 13.97605088]\n",
            "[[13.92339162  6.24761788  2.43439233 14.80089021  2.47882849]\n",
            " [ 9.06572746 19.43896021 18.76742443  6.92981111  9.9536082 ]\n",
            " [14.16013873 20.98343279  8.95771057 14.53613399  1.22533667]\n",
            " [18.11953556  9.18484847 20.25100036  1.11991183 13.97605088]]\n",
            "[[13.92339162  6.24761788  2.43439233  0.          2.47882849]\n",
            " [ 9.06572746  0.         18.76742443  6.92981111  9.9536082 ]\n",
            " [14.16013873  0.          8.95771057 14.53613399  1.22533667]\n",
            " [18.11953556  9.18484847  0.          1.11991183 13.97605088]]\n"
          ]
        }
      ]
    }
  ]
}